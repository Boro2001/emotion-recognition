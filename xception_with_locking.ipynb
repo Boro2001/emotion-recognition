{
 "cells": [
  {
   "cell_type": "code",
   "execution_count": 2,
   "metadata": {},
   "outputs": [],
   "source": [
    "# training xception model with keras\n",
    "import keras\n",
    "from keras.applications.xception import Xception\n",
    "from keras.layers import Dense, GlobalAveragePooling2D\n",
    "from keras.models import Model\n",
    "import pickle\n",
    "import cv2\n",
    "import os\n",
    "import numpy as np\n",
    "import matplotlib.pyplot as plt\n",
    "import time\n",
    "import tensorflow as tf\n"
   ]
  },
  {
   "cell_type": "code",
   "execution_count": 3,
   "metadata": {},
   "outputs": [
    {
     "name": "stderr",
     "output_type": "stream",
     "text": [
      "libpng warning: iCCP: known incorrect sRGB profile\n",
      "libpng warning: iCCP: known incorrect sRGB profile\n",
      "libpng warning: iCCP: extra compressed data\n",
      "libpng warning: iCCP: known incorrect sRGB profile\n",
      "libpng warning: iCCP: known incorrect sRGB profile\n",
      "libpng warning: iCCP: known incorrect sRGB profile\n",
      "Corrupt JPEG data: 50 extraneous bytes before marker 0xd9\n"
     ]
    }
   ],
   "source": [
    "# preparing the data \n",
    "\n",
    "with open('train.pkl', 'rb') as f:\n",
    "    data = pickle.load(f)\n",
    "\n",
    "X = []\n",
    "y = []\n",
    "for i, row in data.iterrows():\n",
    "    if i > 10000: # only use first 10000 images\n",
    "        break\n",
    "    try:\n",
    "        x1, y1, x2, y2 = row['bbox'][0], row['bbox'][1], row['bbox'][2], row['bbox'][3]\n",
    "        img = cv2.imread(row['paths'])[y1:y2, x1:x2] # crop image\n",
    "        img = cv2.resize(img, (224, 224)) # resize to 224x224\n",
    "        img = img / 255.0 # normalize\n",
    "        img = np.array(img) \n",
    "        X.append(img)\n",
    "        if row['first_emotion'] in [3,4,5,6,9]:\n",
    "            y.append(row['first_emotion'])\n",
    "        else:\n",
    "            y.append(-1)\n",
    "    except:\n",
    "        continue\n",
    "    \n",
    "X = np.asarray(X)\n",
    "y = np.asarray(y)\n",
    "from sklearn.model_selection import train_test_split\n",
    "X_train, X_test, y_train, y_test = train_test_split(X, y, test_size=0.3, random_state=42)\n",
    "X_valid, X_test, y_valid, y_test = train_test_split(X_test, y_test, test_size=0.5, random_state=42)"
   ]
  },
  {
   "cell_type": "code",
   "execution_count": 4,
   "metadata": {},
   "outputs": [
    {
     "data": {
      "text/plain": [
       "(6920, 224, 224, 3)"
      ]
     },
     "execution_count": 4,
     "metadata": {},
     "output_type": "execute_result"
    }
   ],
   "source": [
    "X_train.shape"
   ]
  },
  {
   "cell_type": "code",
   "execution_count": 5,
   "metadata": {},
   "outputs": [
    {
     "name": "stderr",
     "output_type": "stream",
     "text": [
      "2022-07-20 22:34:52.900977: I tensorflow/core/common_runtime/pluggable_device/pluggable_device_factory.cc:305] Could not identify NUMA node of platform GPU ID 0, defaulting to 0. Your kernel may not have been built with NUMA support.\n",
      "2022-07-20 22:34:52.901978: I tensorflow/core/common_runtime/pluggable_device/pluggable_device_factory.cc:271] Created TensorFlow device (/job:localhost/replica:0/task:0/device:GPU:0 with 0 MB memory) -> physical PluggableDevice (device: 0, name: METAL, pci bus id: <undefined>)\n"
     ]
    },
    {
     "name": "stdout",
     "output_type": "stream",
     "text": [
      "Metal device set to: Apple M1 Pro\n",
      "\n",
      "systemMemory: 16.00 GB\n",
      "maxCacheSize: 5.33 GB\n",
      "\n"
     ]
    }
   ],
   "source": [
    "model_xception = Xception(weights='imagenet', include_top=False, input_shape=(224,224,3))\n",
    "# add a global spatial average pooling layer\n",
    "x = model_xception.output\n",
    "y = GlobalAveragePooling2D()(x)\n",
    "z = Dense(224, activation='relu')(y)\n",
    "predictions = Dense(6, activation='softmax')(z)\n",
    "model = Model(inputs=model_xception.input, outputs=predictions)\n",
    "# lock the layers\n",
    "for layer in model.layers[:-3]:\n",
    "    layer.trainable = False\n",
    "model.compile(optimizer='adam', loss='sparse_categorical_crossentropy', metrics=['mse'])"
   ]
  },
  {
   "cell_type": "code",
   "execution_count": 6,
   "metadata": {},
   "outputs": [],
   "source": [
    "root_logdir = os.path.join(os.curdir, \"tb_logs\")\n",
    "def get_run_logdir(param_str):    \n",
    "    run_id = str(int(time.time())) + param_str\n",
    "    return os.path.join(root_logdir, run_id)\n",
    "keras.backend.clear_session()\n",
    "np.random.seed(42)\n",
    "tf.random.set_seed(42)\n",
    "run_logdir = get_run_logdir(\"xception\" + \"_emotion_recognition\")\n",
    "tensorboard_cb = keras.callbacks.TensorBoard(run_logdir)\n",
    "es = keras.callbacks.EarlyStopping(min_delta=1.0, patience=10, verbose=1)"
   ]
  },
  {
   "cell_type": "code",
   "execution_count": 7,
   "metadata": {},
   "outputs": [
    {
     "name": "stdout",
     "output_type": "stream",
     "text": [
      "Epoch 1/10\n"
     ]
    },
    {
     "name": "stderr",
     "output_type": "stream",
     "text": [
      "2022-07-20 22:35:28.424167: W tensorflow/core/platform/profile_utils/cpu_utils.cc:128] Failed to get CPU frequency: 0 Hz\n",
      "2022-07-20 22:35:29.458153: I tensorflow/core/grappler/optimizers/custom_graph_optimizer_registry.cc:113] Plugin optimizer for device_type GPU is enabled.\n"
     ]
    },
    {
     "name": "stdout",
     "output_type": "stream",
     "text": [
      "217/217 [==============================] - ETA: 0s - loss: 0.7692 - accuracy: 0.2870"
     ]
    },
    {
     "name": "stderr",
     "output_type": "stream",
     "text": [
      "2022-07-20 22:36:25.225633: I tensorflow/core/grappler/optimizers/custom_graph_optimizer_registry.cc:113] Plugin optimizer for device_type GPU is enabled.\n"
     ]
    },
    {
     "name": "stdout",
     "output_type": "stream",
     "text": [
      "217/217 [==============================] - 69s 295ms/step - loss: 0.7692 - accuracy: 0.2870 - val_loss: 0.6861 - val_accuracy: 0.3345\n",
      "Epoch 2/10\n",
      "217/217 [==============================] - 66s 302ms/step - loss: 1.2748 - accuracy: 0.2662 - val_loss: 1.0403 - val_accuracy: 0.3055\n",
      "Epoch 3/10\n",
      "217/217 [==============================] - 66s 302ms/step - loss: 2.6089 - accuracy: 0.2460 - val_loss: 2.7615 - val_accuracy: 0.3250\n",
      "Epoch 4/10\n",
      " 50/217 [=====>........................] - ETA: 41s - loss: 2.2042 - accuracy: 0.2525"
     ]
    }
   ],
   "source": [
    "# compile the model\n",
    "model.compile(optimizer='adam', loss='sparse_categorical_crossentropy', metrics=['accuracy'])\n",
    "history = model.fit(X_train, y_train, epochs=3, validation_data=(X_valid, y_valid), callbacks=[es, tensorboard_cb], batch_size=32)"
   ]
  },
  {
   "cell_type": "code",
   "execution_count": null,
   "metadata": {},
   "outputs": [],
   "source": [
    "for layer in model.layers[:-3]:\n",
    "    layer.trainable = True\n",
    "model.compile(optimizer='adam', loss='sparse_categorical_crossentropy', metrics=['accuracy'])\n",
    "history = model.fit(X_train, y_train, epochs=15, validation_data=(X_valid, y_valid), callbacks=[es, tensorboard_cb], batch_size=32)"
   ]
  },
  {
   "cell_type": "code",
   "execution_count": null,
   "metadata": {},
   "outputs": [],
   "source": [
    "# tensorboard visualization\n",
    "import tensorboard as tb\n"
   ]
  },
  {
   "cell_type": "code",
   "execution_count": null,
   "metadata": {},
   "outputs": [
    {
     "name": "stdout",
     "output_type": "stream",
     "text": [
      "47/47 [==============================] - 12s 246ms/step - loss: 71.8569 - accuracy: 0.3048\n"
     ]
    }
   ],
   "source": [
    "# evaluate the model\n",
    "loss, accuracy = model.evaluate(X_test, y_test)"
   ]
  },
  {
   "cell_type": "code",
   "execution_count": null,
   "metadata": {},
   "outputs": [
    {
     "name": "stderr",
     "output_type": "stream",
     "text": [
      "2022-07-20 22:09:31.657974: I tensorflow/core/grappler/optimizers/custom_graph_optimizer_registry.cc:113] Plugin optimizer for device_type GPU is enabled.\n"
     ]
    }
   ],
   "source": [
    "# predict the test set\n",
    "y_pred = model.predict(X_test)"
   ]
  },
  {
   "cell_type": "code",
   "execution_count": null,
   "metadata": {},
   "outputs": [
    {
     "name": "stdout",
     "output_type": "stream",
     "text": [
      "[[0.0000000e+00 0.0000000e+00 0.0000000e+00 0.0000000e+00 9.9999988e-01\n",
      "  1.2751899e-07]\n",
      " [0.0000000e+00 0.0000000e+00 0.0000000e+00 0.0000000e+00 1.0000000e+00\n",
      "  0.0000000e+00]\n",
      " [0.0000000e+00 0.0000000e+00 0.0000000e+00 0.0000000e+00 1.0000000e+00\n",
      "  0.0000000e+00]\n",
      " ...\n",
      " [0.0000000e+00 0.0000000e+00 0.0000000e+00 0.0000000e+00 1.0000000e+00\n",
      "  3.0988187e-12]\n",
      " [0.0000000e+00 0.0000000e+00 0.0000000e+00 0.0000000e+00 1.0000000e+00\n",
      "  0.0000000e+00]\n",
      " [8.9630568e-03 7.8058237e-04 1.0332799e-02 3.9838660e-01 3.5165003e-01\n",
      "  2.2988693e-01]]\n"
     ]
    }
   ],
   "source": [
    "print(y_pred)"
   ]
  },
  {
   "cell_type": "code",
   "execution_count": null,
   "metadata": {},
   "outputs": [],
   "source": [
    "# fashion mnist\n",
    "from keras.datasets import fashion_mnist\n",
    "(X_train, y_train), (X_test, y_test) = fashion_mnist.load_data()"
   ]
  },
  {
   "cell_type": "code",
   "execution_count": null,
   "metadata": {},
   "outputs": [],
   "source": []
  }
 ],
 "metadata": {
  "kernelspec": {
   "display_name": "Python 3.9.10 ('base')",
   "language": "python",
   "name": "python3"
  },
  "language_info": {
   "codemirror_mode": {
    "name": "ipython",
    "version": 3
   },
   "file_extension": ".py",
   "mimetype": "text/x-python",
   "name": "python",
   "nbconvert_exporter": "python",
   "pygments_lexer": "ipython3",
   "version": "3.9.10"
  },
  "orig_nbformat": 4,
  "vscode": {
   "interpreter": {
    "hash": "62a727df985e3daf18bc9d1942c89ef5df65520a7e91f46a7d19652d0d54c774"
   }
  }
 },
 "nbformat": 4,
 "nbformat_minor": 2
}
