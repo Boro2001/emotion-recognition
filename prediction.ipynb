{
 "cells": [
  {
   "cell_type": "code",
   "execution_count": 6,
   "metadata": {},
   "outputs": [],
   "source": [
    "import cv2\n",
    "from simple_facerec import SimpleFacerec\n",
    "sfr = SimpleFacerec()"
   ]
  },
  {
   "cell_type": "code",
   "execution_count": 9,
   "metadata": {},
   "outputs": [
    {
     "ename": "ValueError",
     "evalue": "attempt to get argmin of an empty sequence",
     "output_type": "error",
     "traceback": [
      "\u001b[0;31m---------------------------------------------------------------------------\u001b[0m",
      "\u001b[0;31mValueError\u001b[0m                                Traceback (most recent call last)",
      "\u001b[1;32m/Users/mikolajborowicz/Desktop/emotion-detection/prediction.ipynb Cell 2\u001b[0m in \u001b[0;36m<module>\u001b[0;34m\u001b[0m\n\u001b[1;32m      <a href='vscode-notebook-cell:/Users/mikolajborowicz/Desktop/emotion-detection/prediction.ipynb#ch0000001?line=2'>3</a>\u001b[0m ret, frame \u001b[39m=\u001b[39m cap\u001b[39m.\u001b[39mread()\n\u001b[1;32m      <a href='vscode-notebook-cell:/Users/mikolajborowicz/Desktop/emotion-detection/prediction.ipynb#ch0000001?line=3'>4</a>\u001b[0m sfr \u001b[39m=\u001b[39m SimpleFacerec()\n\u001b[0;32m----> <a href='vscode-notebook-cell:/Users/mikolajborowicz/Desktop/emotion-detection/prediction.ipynb#ch0000001?line=4'>5</a>\u001b[0m face_locations, face_names \u001b[39m=\u001b[39m sfr\u001b[39m.\u001b[39;49mdetect_known_faces(frame)\n\u001b[1;32m      <a href='vscode-notebook-cell:/Users/mikolajborowicz/Desktop/emotion-detection/prediction.ipynb#ch0000001?line=5'>6</a>\u001b[0m name \u001b[39m=\u001b[39m \u001b[39m\"\u001b[39m\u001b[39mcamera\u001b[39m\u001b[39m\"\u001b[39m\n\u001b[1;32m      <a href='vscode-notebook-cell:/Users/mikolajborowicz/Desktop/emotion-detection/prediction.ipynb#ch0000001?line=6'>7</a>\u001b[0m \u001b[39mfor\u001b[39;00m face_loc, name \u001b[39min\u001b[39;00m \u001b[39mzip\u001b[39m(face_locations, face_names):\n",
      "File \u001b[0;32m~/Desktop/emotion-detection/simple_facerec.py:63\u001b[0m, in \u001b[0;36mSimpleFacerec.detect_known_faces\u001b[0;34m(self, frame)\u001b[0m\n\u001b[1;32m     56\u001b[0m \u001b[39m# # If a match was found in known_face_encodings, just use the first one.\u001b[39;00m\n\u001b[1;32m     57\u001b[0m \u001b[39m# if True in matches:\u001b[39;00m\n\u001b[1;32m     58\u001b[0m \u001b[39m#     first_match_index = matches.index(True)\u001b[39;00m\n\u001b[1;32m     59\u001b[0m \u001b[39m#     name = known_face_names[first_match_index]\u001b[39;00m\n\u001b[1;32m     60\u001b[0m \n\u001b[1;32m     61\u001b[0m \u001b[39m# Or instead, use the known face with the smallest distance to the new face\u001b[39;00m\n\u001b[1;32m     62\u001b[0m face_distances \u001b[39m=\u001b[39m face_recognition\u001b[39m.\u001b[39mface_distance(\u001b[39mself\u001b[39m\u001b[39m.\u001b[39mknown_face_encodings, face_encoding)\n\u001b[0;32m---> 63\u001b[0m best_match_index \u001b[39m=\u001b[39m np\u001b[39m.\u001b[39;49margmin(face_distances)\n\u001b[1;32m     64\u001b[0m \u001b[39mif\u001b[39;00m matches[best_match_index]:\n\u001b[1;32m     65\u001b[0m     name \u001b[39m=\u001b[39m \u001b[39mself\u001b[39m\u001b[39m.\u001b[39mknown_face_names[best_match_index]\n",
      "File \u001b[0;32m<__array_function__ internals>:180\u001b[0m, in \u001b[0;36margmin\u001b[0;34m(*args, **kwargs)\u001b[0m\n",
      "File \u001b[0;32m/opt/homebrew/lib/python3.9/site-packages/numpy/core/fromnumeric.py:1312\u001b[0m, in \u001b[0;36margmin\u001b[0;34m(a, axis, out, keepdims)\u001b[0m\n\u001b[1;32m   1225\u001b[0m \u001b[39m\"\"\"\u001b[39;00m\n\u001b[1;32m   1226\u001b[0m \u001b[39mReturns the indices of the minimum values along an axis.\u001b[39;00m\n\u001b[1;32m   1227\u001b[0m \n\u001b[0;32m   (...)\u001b[0m\n\u001b[1;32m   1309\u001b[0m \u001b[39m(2, 1, 4)\u001b[39;00m\n\u001b[1;32m   1310\u001b[0m \u001b[39m\"\"\"\u001b[39;00m\n\u001b[1;32m   1311\u001b[0m kwds \u001b[39m=\u001b[39m {\u001b[39m'\u001b[39m\u001b[39mkeepdims\u001b[39m\u001b[39m'\u001b[39m: keepdims} \u001b[39mif\u001b[39;00m keepdims \u001b[39mis\u001b[39;00m \u001b[39mnot\u001b[39;00m np\u001b[39m.\u001b[39m_NoValue \u001b[39melse\u001b[39;00m {}\n\u001b[0;32m-> 1312\u001b[0m \u001b[39mreturn\u001b[39;00m _wrapfunc(a, \u001b[39m'\u001b[39;49m\u001b[39margmin\u001b[39;49m\u001b[39m'\u001b[39;49m, axis\u001b[39m=\u001b[39;49maxis, out\u001b[39m=\u001b[39;49mout, \u001b[39m*\u001b[39;49m\u001b[39m*\u001b[39;49mkwds)\n",
      "File \u001b[0;32m/opt/homebrew/lib/python3.9/site-packages/numpy/core/fromnumeric.py:57\u001b[0m, in \u001b[0;36m_wrapfunc\u001b[0;34m(obj, method, *args, **kwds)\u001b[0m\n\u001b[1;32m     54\u001b[0m     \u001b[39mreturn\u001b[39;00m _wrapit(obj, method, \u001b[39m*\u001b[39margs, \u001b[39m*\u001b[39m\u001b[39m*\u001b[39mkwds)\n\u001b[1;32m     56\u001b[0m \u001b[39mtry\u001b[39;00m:\n\u001b[0;32m---> 57\u001b[0m     \u001b[39mreturn\u001b[39;00m bound(\u001b[39m*\u001b[39;49margs, \u001b[39m*\u001b[39;49m\u001b[39m*\u001b[39;49mkwds)\n\u001b[1;32m     58\u001b[0m \u001b[39mexcept\u001b[39;00m \u001b[39mTypeError\u001b[39;00m:\n\u001b[1;32m     59\u001b[0m     \u001b[39m# A TypeError occurs if the object does have such a method in its\u001b[39;00m\n\u001b[1;32m     60\u001b[0m     \u001b[39m# class, but its signature is not identical to that of NumPy's. This\u001b[39;00m\n\u001b[0;32m   (...)\u001b[0m\n\u001b[1;32m     64\u001b[0m     \u001b[39m# Call _wrapit from within the except clause to ensure a potential\u001b[39;00m\n\u001b[1;32m     65\u001b[0m     \u001b[39m# exception has a traceback chain.\u001b[39;00m\n\u001b[1;32m     66\u001b[0m     \u001b[39mreturn\u001b[39;00m _wrapit(obj, method, \u001b[39m*\u001b[39margs, \u001b[39m*\u001b[39m\u001b[39m*\u001b[39mkwds)\n",
      "\u001b[0;31mValueError\u001b[0m: attempt to get argmin of an empty sequence"
     ]
    }
   ],
   "source": [
    "cap = cv2.VideoCapture(1)\n",
    "while True:\n",
    "    ret, frame = cap.read()\n",
    "    \n",
    "    face_locations, face_names = sfr.detect_known_faces(frame)\n",
    "    for face_loc, name in zip(face_locations, face_names):\n",
    "        y1, x2, y2, x1 = face_loc[0], face_loc[1], face_loc[2], face_loc[3]\n",
    "        cv2.putText(frame, name,(x1, y1 - 10), cv2.FONT_HERSHEY_DUPLEX, 1, (0, 0, 200), 2)\n",
    "        cv2.rectangle(frame, (x1, y1), (x2, y2), (0, 0, 200), 4)\n",
    "        cv2.imshow(\"Frame\", frame)\n",
    "    key = cv2.waitKey(1)\n",
    "    if key == 27:\n",
    "        break"
   ]
  },
  {
   "cell_type": "code",
   "execution_count": null,
   "metadata": {},
   "outputs": [],
   "source": []
  }
 ],
 "metadata": {
  "kernelspec": {
   "display_name": "Python 3.9.13 64-bit",
   "language": "python",
   "name": "python3"
  },
  "language_info": {
   "codemirror_mode": {
    "name": "ipython",
    "version": 3
   },
   "file_extension": ".py",
   "mimetype": "text/x-python",
   "name": "python",
   "nbconvert_exporter": "python",
   "pygments_lexer": "ipython3",
   "version": "3.9.13"
  },
  "orig_nbformat": 4,
  "vscode": {
   "interpreter": {
    "hash": "b0fa6594d8f4cbf19f97940f81e996739fb7646882a419484c72d19e05852a7e"
   }
  }
 },
 "nbformat": 4,
 "nbformat_minor": 2
}
